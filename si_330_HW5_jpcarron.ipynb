{
 "cells": [
  {
   "cell_type": "code",
   "execution_count": 1,
   "metadata": {
    "collapsed": true
   },
   "outputs": [],
   "source": [
    "import collections\n",
    "import os\n",
    "import re\n",
    "import json\n",
    "\n",
    "import numpy as np\n",
    "import pandas as pd\n",
    "import nltk\n",
    "import sklearn.cross_validation as skcv\n",
    "import sklearn.decomposition as skd\n",
    "import sklearn.ensemble as skens\n",
    "import sklearn.feature_extraction.text as skft\n",
    "import sklearn.metrics as skmetrics\n",
    "import sklearn.naive_bayes as sknb\n",
    "import sklearn.pipeline as skpipe\n",
    "import ast\n",
    "from nltk.util import ngrams\n",
    "from sklearn.feature_extraction.text import CountVectorizer\n",
    "from sklearn.naive_bayes import GaussianNB\n",
    "from sklearn.feature_extraction.text import TfidfTransformer\n",
    "from sklearn import metrics\n",
    "import matplotlib.pyplot as plt\n",
    "\n",
    "import matplotlib.pyplot as plt\n",
    "%matplotlib inline\n",
    "import seaborn as sns\n",
    "sns.set(style='whitegrid', color_codes=True, font_scale=1.3)\n",
    "sns.set(style='white', color_codes=True, font_scale=1.3)"
   ]
  },
  {
   "cell_type": "markdown",
   "metadata": {},
   "source": [
    "# Pre-process"
   ]
  },
  {
   "cell_type": "code",
   "execution_count": 2,
   "metadata": {
    "collapsed": false
   },
   "outputs": [],
   "source": [
    "stemmer = nltk.stem.PorterStemmer()\n",
    "stopwords = nltk.corpus.stopwords.words('english')\n",
    "\n",
    "raw_tweets = open('si_330_jpcarron_rawtweeets.json', 'r')\n",
    "\n",
    "def preprocess(text, stemmer):\n",
    "    output1 = []\n",
    "    output2 = []\n",
    "    \n",
    "    saveFile = open('si_330_jpcarron_cleanedtweets.json', 'w')\n",
    "    saveFile2 = open('si_330_jpcarron_cleanedtweets2.json', 'w')\n",
    "    for x in text:\n",
    "        pre_text = re.sub('((https?):((//)|(\\\\\\\\))+([\\w\\d:#@%/;$()~_?\\+-=\\\\\\.&](#!)?)*)', 'URL', x)\n",
    "        pre_text = re.sub('@([A-Za-z0-9_]+)', 'AT_USER', pre_text)\n",
    "        pre_text = ' '.join(re.sub(\"(@[A-Za-z0-9]+)|([^0-9A-Za-z \\t])|(\\w+:\\/\\/\\S+)\",\" \",pre_text).split())\n",
    "        pre_text = pre_text.lower()\n",
    "        out_text = stemmer.stem(pre_text)\n",
    "        out_text = nltk.tokenize.wordpunct_tokenize(out_text)\n",
    "        out_text = list(ngrams(out_text, 1))\n",
    "        output1.append(out_text)\n",
    "        out_text = list(ngrams(out_text, 2))\n",
    "        output2.append(out_text)\n",
    "    for x in output1:\n",
    "        saveFile.write(json.dumps(x))\n",
    "        saveFile.write('\\n')\n",
    "    for x in output2:\n",
    "        saveFile2.write(json.dumps(x))\n",
    "        saveFile2.write('\\n')\n",
    "    return output2\n",
    "\n",
    "\n",
    "processed_api = preprocess(raw_tweets, stemmer)"
   ]
  },
  {
   "cell_type": "markdown",
   "metadata": {},
   "source": [
    "# Train Classifier"
   ]
  },
  {
   "cell_type": "markdown",
   "metadata": {},
   "source": [
    "### load dataset"
   ]
  },
  {
   "cell_type": "code",
   "execution_count": 3,
   "metadata": {
    "collapsed": false
   },
   "outputs": [
    {
     "data": {
      "text/html": [
       "<div>\n",
       "<table border=\"1\" class=\"dataframe\">\n",
       "  <thead>\n",
       "    <tr style=\"text-align: right;\">\n",
       "      <th></th>\n",
       "      <th>Tweet</th>\n",
       "      <th>Student</th>\n",
       "      <th>Sentiment (Positive, Negative, or Neutral)</th>\n",
       "      <th>processed_tweets</th>\n",
       "    </tr>\n",
       "  </thead>\n",
       "  <tbody>\n",
       "    <tr>\n",
       "      <th>0</th>\n",
       "      <td>AT_USER i loved winter so much, thank you for ...</td>\n",
       "      <td>EXAMPLE</td>\n",
       "      <td>2</td>\n",
       "      <td>[((at,), (user,)), ((user,), (i,)), ((i,), (lo...</td>\n",
       "    </tr>\n",
       "    <tr>\n",
       "      <th>1</th>\n",
       "      <td>i don't like winter URL</td>\n",
       "      <td>EXAMPLE</td>\n",
       "      <td>0</td>\n",
       "      <td>[((i,), (don,)), ((don,), (t,)), ((t,), (like,...</td>\n",
       "    </tr>\n",
       "    <tr>\n",
       "      <th>2</th>\n",
       "      <td>registration for winter is this friday</td>\n",
       "      <td>EXAMPLE</td>\n",
       "      <td>1</td>\n",
       "      <td>[((registration,), (for,)), ((for,), (winter,)...</td>\n",
       "    </tr>\n",
       "    <tr>\n",
       "      <th>3</th>\n",
       "      <td>winter wonderland: see top 20 photos from mich...</td>\n",
       "      <td>Aaron Fogle</td>\n",
       "      <td>1</td>\n",
       "      <td>[((winter,), (wonderland,)), ((wonderland,), (...</td>\n",
       "    </tr>\n",
       "    <tr>\n",
       "      <th>4</th>\n",
       "      <td>get $20 off your lyft ride w\\\\ promo code \\\"ar...</td>\n",
       "      <td>Aaron Fogle</td>\n",
       "      <td>2</td>\n",
       "      <td>[((get,), (20,)), ((20,), (off,)), ((off,), (y...</td>\n",
       "    </tr>\n",
       "  </tbody>\n",
       "</table>\n",
       "</div>"
      ],
      "text/plain": [
       "                                               Tweet      Student  \\\n",
       "0  AT_USER i loved winter so much, thank you for ...      EXAMPLE   \n",
       "1                            i don't like winter URL      EXAMPLE   \n",
       "2             registration for winter is this friday      EXAMPLE   \n",
       "3  winter wonderland: see top 20 photos from mich...  Aaron Fogle   \n",
       "4  get $20 off your lyft ride w\\\\ promo code \\\"ar...  Aaron Fogle   \n",
       "\n",
       "  Sentiment (Positive, Negative, or Neutral)  \\\n",
       "0                                          2   \n",
       "1                                          0   \n",
       "2                                          1   \n",
       "3                                          1   \n",
       "4                                          2   \n",
       "\n",
       "                                    processed_tweets  \n",
       "0  [((at,), (user,)), ((user,), (i,)), ((i,), (lo...  \n",
       "1  [((i,), (don,)), ((don,), (t,)), ((t,), (like,...  \n",
       "2  [((registration,), (for,)), ((for,), (winter,)...  \n",
       "3  [((winter,), (wonderland,)), ((wonderland,), (...  \n",
       "4  [((get,), (20,)), ((20,), (off,)), ((off,), (y...  "
      ]
     },
     "execution_count": 3,
     "metadata": {},
     "output_type": "execute_result"
    }
   ],
   "source": [
    "df = pd.DataFrame.from_csv('tweet_sentiment_labels.csv', index_col=False)\n",
    "df['processed_tweets'] = preprocess(df.Tweet, stemmer)\n",
    "\n",
    "# for x in df.processed_tweets:\n",
    "# #     print(x)\n",
    "#     for y in x:\n",
    "#         print(y)\n",
    "\n",
    "\n",
    "trainer = df.copy()\n",
    "\n",
    "trainer['Sentiment (Positive, Negative, or Neutral)'] = trainer['Sentiment (Positive, Negative, or Neutral)'].str.lower()\n",
    "trainer['Sentiment (Positive, Negative, or Neutral)'] = trainer['Sentiment (Positive, Negative, or Neutral)'].str.strip()\n",
    "\n",
    "\n",
    "trainer.loc[trainer['Sentiment (Positive, Negative, or Neutral)'] == \"positive\",'Sentiment (Positive, Negative, or Neutral)'] = 2\n",
    "trainer.loc[trainer['Sentiment (Positive, Negative, or Neutral)'] == \"postive\",'Sentiment (Positive, Negative, or Neutral)'] = 2\n",
    "trainer.loc[trainer['Sentiment (Positive, Negative, or Neutral)'] == \"positve\",'Sentiment (Positive, Negative, or Neutral)'] = 2\n",
    "\n",
    "trainer.loc[trainer['Sentiment (Positive, Negative, or Neutral)'] == \"negative\",'Sentiment (Positive, Negative, or Neutral)'] = 0\n",
    "trainer.loc[trainer['Sentiment (Positive, Negative, or Neutral)'] == \"netative\",'Sentiment (Positive, Negative, or Neutral)'] = 0\n",
    "\n",
    "trainer.loc[trainer['Sentiment (Positive, Negative, or Neutral)'] == \"neutral\",'Sentiment (Positive, Negative, or Neutral)'] = 1\n",
    "trainer.loc[trainer['Sentiment (Positive, Negative, or Neutral)'] == \"netural\",'Sentiment (Positive, Negative, or Neutral)'] = 1\n",
    "\n",
    "trainer = trainer.dropna()\n",
    "trainer.head()"
   ]
  },
  {
   "cell_type": "markdown",
   "metadata": {},
   "source": [
    "### Extract Features"
   ]
  },
  {
   "cell_type": "code",
   "execution_count": 4,
   "metadata": {
    "collapsed": false
   },
   "outputs": [
    {
     "name": "stdout",
     "output_type": "stream",
     "text": [
      "0.09780439121756487\n"
     ]
    },
    {
     "data": {
      "text/plain": [
       "<nltk.classify.naivebayes.NaiveBayesClassifier at 0x2100fd68>"
      ]
     },
     "execution_count": 4,
     "metadata": {},
     "output_type": "execute_result"
    }
   ],
   "source": [
    "from sklearn.feature_extraction.text import CountVectorizer\n",
    "from sklearn.naive_bayes import GaussianNB\n",
    "from sklearn.feature_extraction.text import TfidfTransformer\n",
    "from sklearn import metrics\n",
    "import matplotlib.pyplot as plt\n",
    "from nltk.util import ngrams\n",
    "from nltk.classify import NaiveBayesClassifier\n",
    "from nltk.corpus import stopwords\n",
    "from nltk.metrics import f_measure, accuracy, precision, recall, scores\n",
    "\n",
    "\n",
    "def load_training_data(data):\n",
    "    \n",
    "    posdf = trainer.loc[trainer['Sentiment (Positive, Negative, or Neutral)'] == 2]\n",
    "    negdf = trainer.loc[trainer['Sentiment (Positive, Negative, or Neutral)'] == 0]\n",
    "    neutraldf = trainer.loc[trainer['Sentiment (Positive, Negative, or Neutral)'] == 1]\n",
    "\n",
    "    ####################################################################################################################\n",
    "    ####################################################################################################################\n",
    "    '''Train'''\n",
    "    \n",
    "    stopset = list(set(stopwords.words('english')))\n",
    "\n",
    "    def word_feats(words):\n",
    "        return dict([(word, True) for word in words if word not in stopset])\n",
    "    \n",
    "    labeled_names = ([(name, 'Positive') for name in posdf.processed_tweets] +\n",
    "                     [(name, 'Negative') for name in negdf.processed_tweets] +\n",
    "                     [(name, 'Neutral') for name in neutraldf.processed_tweets])\n",
    "\n",
    "\n",
    "    pos_feats = [(word_feats(f), 'positive') for f in posdf.processed_tweets]\n",
    "    neg_feats = [(word_feats(f), 'negative') for f in negdf.processed_tweets]\n",
    "    neutral_feats = [(word_feats(f), 'neutral') for f in neutraldf.processed_tweets]\n",
    "    \n",
    "    trainfeats = pos_feats + neg_feats + neutral_feats\n",
    "    \n",
    "    dftrain, dftest = trainfeats[:800], trainfeats[800:]\n",
    "    \n",
    "    \n",
    "    classifier = nltk.NaiveBayesClassifier.train(dftrain)\n",
    "    \n",
    "    print(nltk.classify.util.accuracy(classifier, dftest))\n",
    "    \n",
    "    ###############################################################################################################\n",
    "    '''Train classifier on whole labeledset'''\n",
    "    \n",
    "    classifier = nltk.NaiveBayesClassifier.train(trainfeats)\n",
    "    \n",
    "#     for x in posdf.processed_tweets:\n",
    "#         print(x)\n",
    "    \n",
    "    return classifier\n",
    "    \n",
    "load_training_data(trainer)"
   ]
  },
  {
   "cell_type": "markdown",
   "metadata": {},
   "source": [
    "# Sentiment Analysis"
   ]
  },
  {
   "cell_type": "code",
   "execution_count": 5,
   "metadata": {
    "collapsed": false
   },
   "outputs": [
    {
     "name": "stdout",
     "output_type": "stream",
     "text": [
      "0.09780439121756487\n"
     ]
    }
   ],
   "source": [
    "# Part 4: Sentiment Analysis\n",
    "# Read cleaned tweets from stream file, \n",
    "# Apply trained classifiers, and generate label. \n",
    "# Output to json file.\n",
    "def sentiment_analysis(classifier):\n",
    "\n",
    "        \n",
    "    tweet = []\n",
    "    tweet_label = []\n",
    "    some = processed_api[:1000]\n",
    "        \n",
    "\n",
    "    stopset = list(set(stopwords.words('english')))\n",
    "\n",
    "    def word_feats(words):\n",
    "        return dict([(word, True) for word in words if word not in stopset])    \n",
    "        \n",
    "    feats = [(word_feats(f)) for f in processed_api]\n",
    "    \n",
    "    for x in feats:\n",
    "        labeler = classifier.classify(x)\n",
    "        tweet.append(x)\n",
    "        tweet_label.append(labeler)\n",
    "        \n",
    "#     for x in tweet[:2]:\n",
    "#         print(x,'\\n')\n",
    "#     for x in tweet_label[:2]:\n",
    "#         print (x,'\\n')\n",
    "        \n",
    "    CMON = [(word_feats(f), classifier.classify(f)) for f in feats]\n",
    "    saveFile = open('si_330_jpcarron_labelledtweets.json', 'w')\n",
    "    for x in CMON:\n",
    "        saveFile.write(json.dumps(str(x)))\n",
    "        saveFile.write('\\n')\n",
    "\n",
    "\n",
    "sentiment_analysis(load_training_data(trainer))\n",
    "#Save the cleaned tweets with sentiments as si_330_youruniquename_labelledtweets.json"
   ]
  },
  {
   "cell_type": "markdown",
   "metadata": {
    "collapsed": true
   },
   "source": [
    "# Step 5"
   ]
  },
  {
   "cell_type": "code",
   "execution_count": 6,
   "metadata": {
    "collapsed": false
   },
   "outputs": [],
   "source": [
    "templist = []\n",
    "sentlist = []\n",
    "# readfile = open('si_330_jpcarron_labelledtweets.json', 'r')\n",
    "with open('si_330_jpcarron_labelledtweets.json') as graph_file:\n",
    "    for line in graph_file:\n",
    "        data = json.loads(line)\n",
    "        templist.append(ast.literal_eval(data))\n",
    "for x in templist:\n",
    "    sentlist.append(x[1])"
   ]
  },
  {
   "cell_type": "code",
   "execution_count": 7,
   "metadata": {
    "collapsed": false
   },
   "outputs": [],
   "source": [
    "yolist = []\n",
    "with open('si_330_jpcarron_rawtweeets.json') as graph_file:\n",
    "    for line in graph_file:\n",
    "        data = json.loads(line)\n",
    "        yolist.append(ast.literal_eval(data))\n",
    "        \n",
    "# for x in yolist[:10]:\n",
    "#     print(x)"
   ]
  },
  {
   "cell_type": "code",
   "execution_count": 8,
   "metadata": {
    "collapsed": false
   },
   "outputs": [],
   "source": [
    "finalzip = list(zip(yolist, sentlist))\n",
    "saveit = open('si_330_jpcarron_zippedtweets.json','w')\n",
    "for x in finalzip:\n",
    "    if x[1] == 'positive':\n",
    "        saveit.write(json.dumps(str(x[0])))\n",
    "        saveit.write('\\n')"
   ]
  },
  {
   "cell_type": "code",
   "execution_count": 9,
   "metadata": {
    "collapsed": false
   },
   "outputs": [
    {
     "data": {
      "text/html": [
       "<div>\n",
       "<table border=\"1\" class=\"dataframe\">\n",
       "  <thead>\n",
       "    <tr style=\"text-align: right;\">\n",
       "      <th></th>\n",
       "      <th>0</th>\n",
       "      <th>1</th>\n",
       "    </tr>\n",
       "  </thead>\n",
       "  <tbody>\n",
       "    <tr>\n",
       "      <th>0</th>\n",
       "      <td>{'user': 'Bar9266', 'time': 'Sun Dec 06 01:32:...</td>\n",
       "      <td>neutral</td>\n",
       "    </tr>\n",
       "    <tr>\n",
       "      <th>1</th>\n",
       "      <td>{'user': 'melanieHs6931', 'time': 'Sun Dec 06 ...</td>\n",
       "      <td>positive</td>\n",
       "    </tr>\n",
       "    <tr>\n",
       "      <th>2</th>\n",
       "      <td>{'user': 'AzizAlnafisah', 'time': 'Sun Dec 06 ...</td>\n",
       "      <td>negative</td>\n",
       "    </tr>\n",
       "    <tr>\n",
       "      <th>3</th>\n",
       "      <td>{'user': 'MissT117', 'time': 'Sun Dec 06 01:32...</td>\n",
       "      <td>neutral</td>\n",
       "    </tr>\n",
       "    <tr>\n",
       "      <th>4</th>\n",
       "      <td>{'user': 'Catwoman7000', 'time': 'Sun Dec 06 0...</td>\n",
       "      <td>neutral</td>\n",
       "    </tr>\n",
       "  </tbody>\n",
       "</table>\n",
       "</div>"
      ],
      "text/plain": [
       "                                                   0         1\n",
       "0  {'user': 'Bar9266', 'time': 'Sun Dec 06 01:32:...   neutral\n",
       "1  {'user': 'melanieHs6931', 'time': 'Sun Dec 06 ...  positive\n",
       "2  {'user': 'AzizAlnafisah', 'time': 'Sun Dec 06 ...  negative\n",
       "3  {'user': 'MissT117', 'time': 'Sun Dec 06 01:32...   neutral\n",
       "4  {'user': 'Catwoman7000', 'time': 'Sun Dec 06 0...   neutral"
      ]
     },
     "execution_count": 9,
     "metadata": {},
     "output_type": "execute_result"
    }
   ],
   "source": [
    "thisdf = pd.DataFrame.from_records(finalzip)\n",
    "thisdf.head()"
   ]
  },
  {
   "cell_type": "code",
   "execution_count": 10,
   "metadata": {
    "collapsed": false
   },
   "outputs": [
    {
     "data": {
      "text/html": [
       "<div>\n",
       "<table border=\"1\" class=\"dataframe\">\n",
       "  <thead>\n",
       "    <tr style=\"text-align: right;\">\n",
       "      <th></th>\n",
       "      <th>0</th>\n",
       "      <th>1</th>\n",
       "    </tr>\n",
       "  </thead>\n",
       "  <tbody>\n",
       "    <tr>\n",
       "      <th>Sun Dec 06 01:52:12 +0000 2015</th>\n",
       "      <td>{'user': 'brunatsantana', 'time': 'Sun Dec 06 ...</td>\n",
       "      <td>positive</td>\n",
       "    </tr>\n",
       "    <tr>\n",
       "      <th>Sun Dec 06 01:52:13 +0000 2015</th>\n",
       "      <td>{'user': 'The_Best_Smart', 'time': 'Sun Dec 06...</td>\n",
       "      <td>negative</td>\n",
       "    </tr>\n",
       "    <tr>\n",
       "      <th>Sun Dec 06 01:52:13 +0000 2015</th>\n",
       "      <td>{'user': 'BomberSports', 'time': 'Sun Dec 06 0...</td>\n",
       "      <td>neutral</td>\n",
       "    </tr>\n",
       "    <tr>\n",
       "      <th>Sun Dec 06 01:52:13 +0000 2015</th>\n",
       "      <td>{'user': 'C_Clontz', 'time': 'Sun Dec 06 01:52...</td>\n",
       "      <td>negative</td>\n",
       "    </tr>\n",
       "    <tr>\n",
       "      <th>Sun Dec 06 01:52:13 +0000 2015</th>\n",
       "      <td>{'user': 'Mad_Max523', 'time': 'Sun Dec 06 01:...</td>\n",
       "      <td>negative</td>\n",
       "    </tr>\n",
       "  </tbody>\n",
       "</table>\n",
       "</div>"
      ],
      "text/plain": [
       "                                                                                0  \\\n",
       "Sun Dec 06 01:52:12 +0000 2015  {'user': 'brunatsantana', 'time': 'Sun Dec 06 ...   \n",
       "Sun Dec 06 01:52:13 +0000 2015  {'user': 'The_Best_Smart', 'time': 'Sun Dec 06...   \n",
       "Sun Dec 06 01:52:13 +0000 2015  {'user': 'BomberSports', 'time': 'Sun Dec 06 0...   \n",
       "Sun Dec 06 01:52:13 +0000 2015  {'user': 'C_Clontz', 'time': 'Sun Dec 06 01:52...   \n",
       "Sun Dec 06 01:52:13 +0000 2015  {'user': 'Mad_Max523', 'time': 'Sun Dec 06 01:...   \n",
       "\n",
       "                                       1  \n",
       "Sun Dec 06 01:52:12 +0000 2015  positive  \n",
       "Sun Dec 06 01:52:13 +0000 2015  negative  \n",
       "Sun Dec 06 01:52:13 +0000 2015   neutral  \n",
       "Sun Dec 06 01:52:13 +0000 2015  negative  \n",
       "Sun Dec 06 01:52:13 +0000 2015  negative  "
      ]
     },
     "execution_count": 10,
     "metadata": {},
     "output_type": "execute_result"
    }
   ],
   "source": [
    "dates =[]\n",
    "for x in thisdf[0]:\n",
    "    dates.append(x['time'])\n",
    "thisdf.index = dates\n",
    "thisdf.tail()"
   ]
  },
  {
   "cell_type": "code",
   "execution_count": 11,
   "metadata": {
    "collapsed": false
   },
   "outputs": [],
   "source": [
    "import vincent\n",
    "\n",
    "def time_series_tweets():\n",
    "    #open datafile with tweets and sentiments\n",
    "    #Append data\n",
    "    \n",
    "\n",
    "    with open('si_330_jpcarron_rawtweeets.json') as graph_file:\n",
    "        d = dict()\n",
    "        time_array = []\n",
    "        alist = []\n",
    "        for line in graph_file:\n",
    "            data = json.loads(line)\n",
    "            alist.append(ast.literal_eval(data))\n",
    "        for x in alist:\n",
    "            time_array.append(x['time'])\n",
    "\n",
    "        # a list of \"1\" to count the dates\n",
    "        ones = [1]*len(time_array)\n",
    "        \n",
    "        # the index of the series\n",
    "        idx = pd.DatetimeIndex(time_array)\n",
    "        #print idx\n",
    "        # the actual series (at series of 1s for the moment)\n",
    "        t_array = pd.Series(ones, index=idx)\n",
    "        #print t_array\n",
    "\n",
    "        # Resampling / bucketing\n",
    "        t_array = t_array.resample('5s', how='sum').fillna(0)\n",
    "        time_chart = vincent.Line(t_array)\n",
    "        time_chart.axis_titles(x='Time', y='Freq')\n",
    "        time_chart.to_json('term_freq.json')\n",
    "        \n",
    "time_series_tweets()"
   ]
  },
  {
   "cell_type": "code",
   "execution_count": 12,
   "metadata": {
    "collapsed": false
   },
   "outputs": [],
   "source": [
    "def time_series_tweets():\n",
    "    #open datafile with tweets and sentiments\n",
    "    #Append data\n",
    "    \n",
    "\n",
    "    with open('si_330_jpcarron_zippedtweets.json') as graph_file:\n",
    "        d = dict()\n",
    "        time_array = []\n",
    "        alist = []\n",
    "        for line in graph_file:\n",
    "            data = json.loads(line)\n",
    "            alist.append(ast.literal_eval(data))\n",
    "        for x in alist:\n",
    "            time_array.append(x['time'])\n",
    "\n",
    "        # a list of \"1\" to count the dates\n",
    "        ones = [1]*len(time_array)\n",
    "        \n",
    "        # the index of the series\n",
    "        idx = pd.DatetimeIndex(time_array)\n",
    "        #print idx\n",
    "        # the actual series (at series of 1s for the moment)\n",
    "        t_array = pd.Series(ones, index=idx)\n",
    "        #print t_array\n",
    "\n",
    "        # Resampling / bucketing\n",
    "        t_array = t_array.resample('5s', how='sum').fillna(0)\n",
    "        time_chart = vincent.Line(t_array)\n",
    "        time_chart.axis_titles(x='Time', y='Freq')\n",
    "        time_chart.to_json('term_freq.json')\n",
    "        \n",
    "time_series_tweets()"
   ]
  },
  {
   "cell_type": "code",
   "execution_count": 17,
   "metadata": {
    "collapsed": false
   },
   "outputs": [
    {
     "data": {
      "text/plain": [
       "<matplotlib.axes._subplots.AxesSubplot at 0x4c40d4a8>"
      ]
     },
     "execution_count": 17,
     "metadata": {},
     "output_type": "execute_result"
    },
    {
     "data": {
      "image/png": "[encoded data removed]",
      "text/plain": [
       "<matplotlib.figure.Figure at 0x4c43e0f0>"
      ]
     },
     "metadata": {},
     "output_type": "display_data"
    }
   ],
   "source": [
    "fig, ax = plt.subplots(figsize=(12,4))\n",
    "t_array.ix['2015-12-06',].plot(ax=ax)"
   ]
  },
  {
   "cell_type": "code",
   "execution_count": 14,
   "metadata": {
    "collapsed": false
   },
   "outputs": [
    {
     "name": "stdout",
     "output_type": "stream",
     "text": [
      "2015-12-06 01:32:20+00:00      1\n",
      "2015-12-06 01:32:25+00:00    287\n",
      "2015-12-06 01:32:30+00:00    240\n",
      "2015-12-06 01:32:35+00:00    240\n",
      "2015-12-06 01:32:40+00:00    240\n",
      "2015-12-06 01:32:45+00:00    240\n",
      "2015-12-06 01:32:50+00:00    240\n",
      "2015-12-06 01:32:55+00:00    240\n",
      "2015-12-06 01:33:00+00:00    240\n",
      "2015-12-06 01:33:05+00:00    240\n",
      "2015-12-06 01:33:10+00:00    240\n",
      "2015-12-06 01:33:15+00:00    240\n",
      "2015-12-06 01:33:20+00:00    240\n",
      "2015-12-06 01:33:25+00:00    240\n",
      "2015-12-06 01:33:30+00:00    240\n",
      "2015-12-06 01:33:35+00:00    241\n",
      "2015-12-06 01:33:40+00:00    239\n",
      "2015-12-06 01:33:45+00:00    240\n",
      "2015-12-06 01:33:50+00:00    240\n",
      "2015-12-06 01:33:55+00:00    240\n",
      "2015-12-06 01:34:00+00:00    240\n",
      "2015-12-06 01:34:05+00:00    240\n",
      "2015-12-06 01:34:10+00:00    240\n",
      "2015-12-06 01:34:15+00:00    240\n",
      "2015-12-06 01:34:20+00:00    240\n",
      "2015-12-06 01:34:25+00:00    240\n",
      "2015-12-06 01:34:30+00:00    240\n",
      "2015-12-06 01:34:35+00:00    240\n",
      "2015-12-06 01:34:40+00:00    240\n",
      "2015-12-06 01:34:45+00:00    240\n",
      "                            ... \n",
      "2015-12-06 01:49:45+00:00    240\n",
      "2015-12-06 01:49:50+00:00    240\n",
      "2015-12-06 01:49:55+00:00    240\n",
      "2015-12-06 01:50:00+00:00    240\n",
      "2015-12-06 01:50:05+00:00    240\n",
      "2015-12-06 01:50:10+00:00    240\n",
      "2015-12-06 01:50:15+00:00    240\n",
      "2015-12-06 01:50:20+00:00    240\n",
      "2015-12-06 01:50:25+00:00    240\n",
      "2015-12-06 01:50:30+00:00    241\n",
      "2015-12-06 01:50:35+00:00    239\n",
      "2015-12-06 01:50:40+00:00    240\n",
      "2015-12-06 01:50:45+00:00    240\n",
      "2015-12-06 01:50:50+00:00    240\n",
      "2015-12-06 01:50:55+00:00    240\n",
      "2015-12-06 01:51:00+00:00    240\n",
      "2015-12-06 01:51:05+00:00    240\n",
      "2015-12-06 01:51:10+00:00    240\n",
      "2015-12-06 01:51:15+00:00    240\n",
      "2015-12-06 01:51:20+00:00    240\n",
      "2015-12-06 01:51:25+00:00    240\n",
      "2015-12-06 01:51:30+00:00    240\n",
      "2015-12-06 01:51:35+00:00    240\n",
      "2015-12-06 01:51:40+00:00    240\n",
      "2015-12-06 01:51:45+00:00    240\n",
      "2015-12-06 01:51:50+00:00    240\n",
      "2015-12-06 01:51:55+00:00    240\n",
      "2015-12-06 01:52:00+00:00    240\n",
      "2015-12-06 01:52:05+00:00    241\n",
      "2015-12-06 01:52:10+00:00    160\n",
      "Freq: 5S, dtype: int64\n"
     ]
    }
   ],
   "source": [
    "with open('si_330_jpcarron_rawtweeets.json') as graph_file:\n",
    "    d = dict()\n",
    "    time_array = []\n",
    "    alist = []\n",
    "    for line in graph_file:\n",
    "        data = json.loads(line)\n",
    "        alist.append(ast.literal_eval(data))\n",
    "    for x in alist:\n",
    "        time_array.append(x['time'])\n",
    "\n",
    "    # a list of \"1\" to count the dates\n",
    "    ones = [1]*len(time_array)\n",
    "\n",
    "    # the index of the series\n",
    "    idx = pd.DatetimeIndex(time_array)\n",
    "    #print idx\n",
    "    # the actual series (at series of 1s for the moment)\n",
    "    t_array = pd.Series(ones, index=idx)\n",
    "    #print t_array\n",
    "\n",
    "    # Resampling / bucketing\n",
    "    t_array = t_array.resample('5s', how='sum').fillna(0)\n",
    "    \n",
    "#         time_chart = vincent.Line(t_array)\n",
    "#         time_chart.axis_titles(x='Time', y='Freq')\n",
    "#         time_chart.to_json('term_freq.json')"
   ]
  },
  {
   "cell_type": "code",
   "execution_count": 16,
   "metadata": {
    "collapsed": false
   },
   "outputs": [
    {
     "data": {
      "text/plain": [
       "<matplotlib.axes._subplots.AxesSubplot at 0x4c3e87f0>"
      ]
     },
     "execution_count": 16,
     "metadata": {},
     "output_type": "execute_result"
    },
    {
     "data": {
      "image/png": "[encoded data removed]",
      "text/plain": [
       "<matplotlib.figure.Figure at 0x4bd492b0>"
      ]
     },
     "metadata": {},
     "output_type": "display_data"
    }
   ],
   "source": [
    "fig, ax = plt.subplots(figsize=(12,4))\n",
    "t_array.ix['2015-12-06',].plot(ax=ax)"
   ]
  },
  {
   "cell_type": "code",
   "execution_count": null,
   "metadata": {
    "collapsed": true
   },
   "outputs": [],
   "source": []
  }
 ],
 "metadata": {
  "kernelspec": {
   "display_name": "Python 3",
   "language": "python",
   "name": "python3"
  },
  "language_info": {
   "codemirror_mode": {
    "name": "ipython",
    "version": 3
   },
   "file_extension": ".py",
   "mimetype": "text/x-python",
   "name": "python",
   "nbconvert_exporter": "python",
   "pygments_lexer": "ipython3",
   "version": "3.4.3"
  }
 },
 "nbformat": 4,
 "nbformat_minor": 0
}
